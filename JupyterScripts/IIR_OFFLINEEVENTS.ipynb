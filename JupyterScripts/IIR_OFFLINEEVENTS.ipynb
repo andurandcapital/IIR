{
 "cells": [
  {
   "cell_type": "code",
   "execution_count": null,
   "metadata": {},
   "outputs": [],
   "source": [
    "import pandas as pd\n",
    "import numpy as np\n",
    "import math\n",
    "import sqlalchemy as sa\n",
    "from sqlalchemy import create_engine\n",
    "from sqlalchemy.pool import StaticPool\n",
    "from decimal import Decimal\n",
    "import datetime\n",
    "import os\n",
    "#pd.set_option('display.max_columns', None)\n",
    "#DB Details\n",
    "connection_type = \"mssql+pyodbc\"\n",
    "dataportal_db_user = \"dataportal\"\n",
    "dataportal_db_password = \"FatShamingMarc\"\n",
    "dataportal_db_ip = \"10.8.4.35\"\n",
    "db_port = \"1433\"\n",
    "db_prod_name = \"dataportal_prod\"\n",
    "db_driver = \"ODBC+DRIVER+17+for+SQL+Server\""
   ]
  },
  {
   "cell_type": "code",
   "execution_count": null,
   "metadata": {},
   "outputs": [],
   "source": [
    "def create_connection_string(connection_type, user, password, host, port, database_name, driver):\n",
    "    return (\n",
    "        \"{connection_type}://{user}:{password}@{host}:{port}/{database_name}\"\n",
    "        \"?driver={driver}\").format(\n",
    "        connection_type=connection_type,\n",
    "        user=user,\n",
    "        password=password,\n",
    "        host=host,\n",
    "        port=port,\n",
    "        database_name=database_name,\n",
    "        driver=driver)"
   ]
  },
  {
   "cell_type": "code",
   "execution_count": null,
   "metadata": {},
   "outputs": [],
   "source": [
    "def mapOfflineEventsDataframe(df, filename):\n",
    "    df.loc[df.PADD_REG == 'I', 'PADD_REG'] = \"PAD District 1\"\n",
    "    df.loc[df.PADD_REG == 'II', 'PADD_REG'] = \"PAD District 2\"\n",
    "    df.loc[df.PADD_REG == 'III', 'PADD_REG'] = \"PAD District 3\"\n",
    "    df.loc[df.PADD_REG == 'IV', 'PADD_REG'] = \"PAD District 4\"\n",
    "    df.loc[df.PADD_REG == 'V', 'PADD_REG'] = \"PAD District 5\"\n",
    "    df['ORIGIN_FILE'] = filename"
   ]
  },
  {
   "cell_type": "code",
   "execution_count": null,
   "metadata": {},
   "outputs": [],
   "source": [
    "#Define columns we're interested in from the file\n",
    "columns=['RELEASE_DT', 'EVENT_ID', 'UNIT_NAME', 'UNIT_ID', 'AREA_ID', 'AREA_NAME', 'OWNER_NAME', 'PLANT_ID', 'PLANT_NAME', \n",
    "         'U_STATUS', 'UTYPE_DESC', 'U_CAPACITY', 'CAP_OFFLINE', 'START_DATE', 'END_DATE', 'PRECISION', 'EVENT_TYPE', \n",
    "         'E_STATUS', 'E_CAUSE', 'E_DURATION', 'PADD_REG', 'COMMENTS']"
   ]
  },
  {
   "cell_type": "code",
   "execution_count": null,
   "metadata": {},
   "outputs": [],
   "source": [
    "renamed_columns={\"RELEASE_DT\": \"PUBLISH_DATE\", \"U_STATUS\":\"UNIT_STATUS\", \"U_CAPACITY\":\"CAPACITY\", \"CAP_OFFLINE\":\"CAPACITY_OFFLINE\", \"START_DATE\": \"EVENT_START\", \"END_DATE\": \"EVENT_END\", \n",
    "                 \"PRECISION\": \"DATE_PRECISION\", \"E_STATUS\": \"EVENT_STATUS\", \"E_CAUSE\": \"EVENT_CAUSE\", \"E_DURATION\" : \"EVENT_DURATION\", \"PADD_REG\": \"PAD_DISTRICT\"}"
   ]
  },
  {
   "cell_type": "code",
   "execution_count": null,
   "metadata": {},
   "outputs": [],
   "source": [
    "filename = 'OfflineEvents20200825.csv'\n",
    "path = 'C:\\\\Temp\\\\IIR\\\\'\n",
    "filepath = path + filename"
   ]
  },
  {
   "cell_type": "code",
   "execution_count": null,
   "metadata": {},
   "outputs": [],
   "source": [
    "connection_string = create_connection_string(connection_type,dataportal_db_user,dataportal_db_password,dataportal_db_ip,db_port,db_prod_name, db_driver)\n",
    "engine = create_engine(connection_string, poolclass=StaticPool)"
   ]
  },
  {
   "cell_type": "code",
   "execution_count": null,
   "metadata": {},
   "outputs": [],
   "source": [
    "#Manual Run\n",
    "filepath = path + filename\n",
    "df = pd.read_csv(filepath, low_memory=False)[columns]\n",
    "mapOfflineEventsDataframe(df, filename)\n",
    "df = df.rename(columns = renamed_columns)"
   ]
  },
  {
   "cell_type": "code",
   "execution_count": null,
   "metadata": {},
   "outputs": [],
   "source": [
    "# Insert to SQL\n",
    "df.to_sql('data_iir_offlineevents', connection_string, if_exists='append', index=False,\n",
    "        dtype={ 'PUBLISH_DATE' :   sa.DateTime(),\n",
    "                'EVENT_ID' :       sa.types.INTEGER(),\n",
    "                'UNIT_NAME' :     sa.types.VARCHAR(100),\n",
    "                'UNIT_ID' :       sa.types.INTEGER(),\n",
    "                'AREA_ID' :       sa.types.INTEGER(),\n",
    "                'AREA_NAME' :     sa.types.VARCHAR(100),\n",
    "                'OWNER_NAME' :     sa.types.VARCHAR(100),\n",
    "                'PLANT_ID' :       sa.types.INTEGER(),\n",
    "                'PLANT_NAME' :     sa.types.VARCHAR(100),\n",
    "                'UNIT_STATUS' : sa.types.VARCHAR(30),\n",
    "                'UTYPE_DESC' : sa.types.VARCHAR(100),\n",
    "                'CAPACITY' : sa.types.INTEGER(),\n",
    "                'CAPACITY_OFFLINE' : sa.types.INTEGER(),\n",
    "                'EVENT_START' :  sa.DateTime(),\n",
    "                'EVENT_END' :  sa.DateTime(),\n",
    "                'DATE_PRECISION' : sa.types.VARCHAR(16) ,\n",
    "                'EVENT_TYPE' : sa.types.VARCHAR(30),         \n",
    "                'EVENT_STATUS' : sa.types.VARCHAR(30),\n",
    "                'EVENT_CAUSE' : sa.types.VARCHAR(65),\n",
    "                'EVENT_DURATION' : sa.types.INTEGER(),\n",
    "                'PAD_DISTRICT' : sa.types.VARCHAR(65),\n",
    "                'COMMENTS' : sa.types.TEXT ,\n",
    "                'ORIGIN_FILE' : sa.types.VARCHAR(65)})"
   ]
  }
 ],
 "metadata": {
  "kernelspec": {
   "display_name": "Python 3",
   "language": "python",
   "name": "python3"
  },
  "language_info": {
   "codemirror_mode": {
    "name": "ipython",
    "version": 3
   },
   "file_extension": ".py",
   "mimetype": "text/x-python",
   "name": "python",
   "nbconvert_exporter": "python",
   "pygments_lexer": "ipython3",
   "version": "3.7.6"
  }
 },
 "nbformat": 4,
 "nbformat_minor": 4
}
