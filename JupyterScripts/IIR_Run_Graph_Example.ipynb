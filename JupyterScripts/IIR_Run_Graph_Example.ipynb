{
 "cells": [
  {
   "cell_type": "code",
   "execution_count": 1,
   "metadata": {},
   "outputs": [],
   "source": [
    "import pandas as pd\n",
    "#import numpy as np\n",
    "#import math\n",
    "import datetime\n",
    "import plotly.graph_objs as go\n",
    "#DB Details\n",
    "connection_type = \"mssql+pyodbc\"\n",
    "dataportal_db_user = \"dataportal\"\n",
    "dataportal_db_password = \"FatShamingMarc\"\n",
    "dataportal_db_ip = \"10.8.4.35\"\n",
    "db_port = \"1433\"\n",
    "db_prod_name = \"dataportal_prod\"\n",
    "db_driver = \"ODBC+DRIVER+17+for+SQL+Server\""
   ]
  },
  {
   "cell_type": "code",
   "execution_count": 2,
   "metadata": {},
   "outputs": [],
   "source": [
    "def create_connection_string(connection_type, user, password, host, port, database_name, driver):\n",
    "    return (\n",
    "        \"{connection_type}://{user}:{password}@{host}:{port}/{database_name}\"\n",
    "        \"?driver={driver}\").format(\n",
    "        connection_type=connection_type,\n",
    "        user=user,\n",
    "        password=password,\n",
    "        host=host,\n",
    "        port=port,\n",
    "        database_name=database_name,\n",
    "        driver=driver)"
   ]
  },
  {
   "cell_type": "code",
   "execution_count": 3,
   "metadata": {},
   "outputs": [],
   "source": [
    "connection_string = create_connection_string(connection_type,dataportal_db_user,dataportal_db_password,dataportal_db_ip,db_port,db_prod_name, db_driver)"
   ]
  },
  {
   "cell_type": "code",
   "execution_count": 4,
   "metadata": {},
   "outputs": [],
   "source": [
    "# adding region column to grouped_df based on below dictionary\n",
    "country_mappings= {\n",
    "    'GLOBAL': 'GLOBAL',\n",
    "    'CANADA': 'NAM',\n",
    "    'MEXICO': 'NAM',\n",
    "    'U.S.A.': 'NAM',\n",
    "    'AUSTRIA': 'Europe',\n",
    "    'BELARUS': 'Europe',\n",
    "    'BELGIUM' : 'Europe',\n",
    "    'BOSNIA-HERZEGOVINA' : 'Europe',\n",
    "    'CROATIA' : 'Europe',\n",
    "    'CZECH REPUBLIC' : 'Europe',\n",
    "    'DENMARK' : 'Europe',\n",
    "    'FINLAND' : 'Europe',\n",
    "    'FRANCE' : 'Europe',\n",
    "    'GERMANY' : 'Europe',\n",
    "    'GREECE' : 'Europe',\n",
    "    'HUNGARY' : 'Europe',\n",
    "    'IRELAND' : 'Europe',\n",
    "    'ITALY' : 'Europe',\n",
    "    'LITHUANIA' : 'Europe',\n",
    "    'MACEDONIA' : 'Europe',\n",
    "    'NETHERLANDS' : 'Europe',\n",
    "    'NORWAY' : 'Europe',\n",
    "    'POLAND' : 'Europe',\n",
    "    'PORTUGAL' : 'Europe',\n",
    "    'ROMANIA' : 'Europe',\n",
    "    'SERBIA' : 'Europe',\n",
    "    'SLOVAKIA' : 'Europe',\n",
    "    'SPAIN' : 'Europe',\n",
    "    'SWEDEN' : 'Europe',\n",
    "    'SWITZERLAND' : 'Europe',\n",
    "    'UKRAINE' : 'Europe',\n",
    "    'UNITED KINGDOM' : 'Europe',\n",
    "    'RUSSIA' : 'Russia',\n",
    "    'CHINA' : 'China',\n",
    "    'BAHRAIN' : 'Middle East',\n",
    "    'JORDAN' : 'Middle East',\n",
    "    'KUWAIT' : 'Middle East',\n",
    "    'IRAN' : 'Middle East',\n",
    "    'IRAQ' : 'Middle East',\n",
    "    'ISRAEL' : 'Middle East',\n",
    "    'OMAN' : 'Middle East',\n",
    "    'QATAR' : 'Middle East',\n",
    "    'SAUDI ARABIA' : 'Middle East',\n",
    "    'SYRIA' : 'Middle East',\n",
    "    'UNITED ARAB EMIRATES' : 'Middle East',\n",
    "    'YEMEN' : 'Middle East'\n",
    "}"
   ]
  },
  {
   "cell_type": "code",
   "execution_count": 5,
   "metadata": {},
   "outputs": [],
   "source": [
    "country_mappings_df = pd.DataFrame(list(country_mappings.items()), columns=['COUNTRY', 'REGION'])"
   ]
  },
  {
   "cell_type": "code",
   "execution_count": 6,
   "metadata": {},
   "outputs": [],
   "source": [
    "region_list = country_mappings_df['REGION'].unique().tolist()"
   ]
  },
  {
   "cell_type": "code",
   "execution_count": 7,
   "metadata": {},
   "outputs": [],
   "source": [
    "sql_query_1month = \"select * from udf_data_iir_offlineevents_unique_latest(dateadd(month,-1,getdate()))\"\n",
    "sql_query_latest = \"select * from udf_data_iir_offlineevents_unique_latest(getdate())\""
   ]
  },
  {
   "cell_type": "code",
   "execution_count": 8,
   "metadata": {},
   "outputs": [],
   "source": [
    "#retrieves data using specific query\n",
    "df_latest = pd.read_sql(sql_query_latest, connection_string)\n",
    "df_1month = pd.read_sql(sql_query_1month, connection_string)"
   ]
  },
  {
   "cell_type": "code",
   "execution_count": 9,
   "metadata": {},
   "outputs": [],
   "source": [
    "# creating multiindex df with each event as single timeseries\n",
    "dates = pd.date_range(start='1970-01-01', end='2021-12-31', freq='D')"
   ]
  },
  {
   "cell_type": "code",
   "execution_count": 10,
   "metadata": {},
   "outputs": [],
   "source": [
    "def concat_df_with_new_column_value(df, columns, new_value):\n",
    "    df_copy = df.copy()\n",
    "    df[columns]=new_value\n",
    "    return pd.concat([df, df_copy])\n",
    "\n",
    "def transform_to_combined_dateindex(df, dates):\n",
    "    grouped_df = df.groupby(['EVENT_START', 'EVENT_END', 'COUNTRY', 'EVENT_TYPE', 'UNIT_TYPE_DESCRIPTION'])\\\n",
    "                            .agg({\"CAPACITY_OFFLINE\": \"sum\"}).reset_index();\n",
    "\n",
    "    grouped_df = grouped_df.merge(country_mappings_df, how='left', left_on='COUNTRY', right_on='COUNTRY')\n",
    "    grouped_df = concat_df_with_new_column_value(grouped_df, ['COUNTRY','REGION'], 'GLOBAL')\n",
    "    grouped_df = concat_df_with_new_column_value(grouped_df, 'EVENT_TYPE', 'All')\n",
    "\n",
    "    start_df = pd.pivot_table(grouped_df, index='EVENT_START', values='CAPACITY_OFFLINE',\n",
    "                              columns=['REGION','EVENT_TYPE','UNIT_TYPE_DESCRIPTION'],\n",
    "                              aggfunc='sum').reindex(dates).fillna(0)\n",
    "    end_df = pd.pivot_table(grouped_df, index='EVENT_END', values='CAPACITY_OFFLINE',\n",
    "                            columns=['REGION','EVENT_TYPE','UNIT_TYPE_DESCRIPTION'],\n",
    "                            aggfunc='sum').reindex(dates).fillna(0) * -1\n",
    "\n",
    "    comb_df = start_df.add(end_df).cumsum()\n",
    "\n",
    "    comb_df_m = comb_df.resample('M').mean()\n",
    "    comb_df_m['MONTH'] = comb_df_m.index.month\n",
    "    comb_df_m['YEAR'] = comb_df_m.index.year\n",
    "    comb_df_m = comb_df_m.set_index(['YEAR', 'MONTH'])\n",
    "    return comb_df_m\n"
   ]
  },
  {
   "cell_type": "code",
   "execution_count": 11,
   "metadata": {},
   "outputs": [],
   "source": [
    "comb_df_latest = transform_to_combined_dateindex(df_latest, dates)\n",
    "comb_df_m_1month = transform_to_combined_dateindex(df_1month, dates)"
   ]
  },
  {
   "cell_type": "code",
   "execution_count": null,
   "metadata": {},
   "outputs": [],
   "source": []
  },
  {
   "cell_type": "code",
   "execution_count": 12,
   "metadata": {},
   "outputs": [],
   "source": [
    "months = ['Jan','Feb','Mar','Apr','May','Jun','Jul','Aug','Sep','Oct','Nov','Dec']\n",
    "years_2 = [2020,2019]\n",
    "years_5 = [2016,2017,2018,2019,2020]\n",
    "region = 'GLOBAL'\n",
    "planning_type = 'All'\n",
    "distillation_type = 'Atmospheric Distillation'"
   ]
  },
  {
   "cell_type": "code",
   "execution_count": 13,
   "metadata": {},
   "outputs": [],
   "source": [
    "trace = []\n",
    "\n",
    "# 2019 & 2020\n",
    "for year in years_2:\n",
    "    trace.append(go.Scatter(x= months,\n",
    "                             y= comb_df_latest.loc[year,(region,planning_type,distillation_type)],\n",
    "                             mode = 'lines + markers',\n",
    "                             line_shape='spline',\n",
    "                             name = year))\n",
    "# Draw data as of 1 month ago\n",
    "trace.append(go.Scatter(x= months,\n",
    "                         y= comb_df_m_1month.loc[2020,(region,planning_type,distillation_type)],\n",
    "                         mode = 'lines + markers',\n",
    "                         line_shape='spline',\n",
    "                         name = '1 month ago'))\n",
    "# Draw 5 year average\n",
    "trace.append(go.Scatter(x= months,\n",
    "                         y= comb_df_latest.loc[years_5,(region,planning_type,distillation_type)].mean(axis=0, level='MONTH'),\n",
    "                         mode = 'lines + markers',\n",
    "                         line_shape='spline',\n",
    "                         name = '5yr avg'))"
   ]
  },
  {
   "cell_type": "markdown",
   "metadata": {},
   "source": [
    "# layout = go.Layout(\n",
    "                  colorway=['#17becf','#e377c2','#ff7f0e','#2ca02c','black','grey'],\n",
    "                  title = {'text': ' '},\n",
    "                  margin={'t': 40, 'b': 40, 'l': 40, 'r': 10},\n",
    "                  legend=dict(orientation='h', yanchor=\"bottom\", y=-0.25, xanchor=\"left\", x=0)\n",
    "                   )\n",
    "traces = [trace]\n",
    "data = [val for sublist in traces for val in sublist]\n",
    "# define figure for graph output\n",
    "figure = go.Figure(data = data, layout = layout)\n",
    "figure.show()"
   ]
  }
 ],
 "metadata": {
  "kernelspec": {
   "display_name": "Python 3",
   "language": "python",
   "name": "python3"
  },
  "language_info": {
   "codemirror_mode": {
    "name": "ipython",
    "version": 3
   },
   "file_extension": ".py",
   "mimetype": "text/x-python",
   "name": "python",
   "nbconvert_exporter": "python",
   "pygments_lexer": "ipython3",
   "version": "3.7.9"
  }
 },
 "nbformat": 4,
 "nbformat_minor": 4
}
